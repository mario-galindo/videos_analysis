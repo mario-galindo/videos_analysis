{
 "cells": [
  {
   "cell_type": "code",
   "execution_count": 2,
   "metadata": {},
   "outputs": [],
   "source": [
    "import pandas as pd\n",
    "import re"
   ]
  },
  {
   "cell_type": "code",
   "execution_count": 3,
   "metadata": {},
   "outputs": [
    {
     "data": {
      "text/html": [
       "<div>\n",
       "<style scoped>\n",
       "    .dataframe tbody tr th:only-of-type {\n",
       "        vertical-align: middle;\n",
       "    }\n",
       "\n",
       "    .dataframe tbody tr th {\n",
       "        vertical-align: top;\n",
       "    }\n",
       "\n",
       "    .dataframe thead th {\n",
       "        text-align: right;\n",
       "    }\n",
       "</style>\n",
       "<table border=\"1\" class=\"dataframe\">\n",
       "  <thead>\n",
       "    <tr style=\"text-align: right;\">\n",
       "      <th></th>\n",
       "      <th>Id</th>\n",
       "      <th>Year</th>\n",
       "      <th>Month</th>\n",
       "      <th>Day</th>\n",
       "      <th>VideoDuration</th>\n",
       "      <th>VideoWeight</th>\n",
       "    </tr>\n",
       "  </thead>\n",
       "  <tbody>\n",
       "    <tr>\n",
       "      <th>0</th>\n",
       "      <td>00114ad1-489d-47dd-a536-4b8d77283b1a</td>\n",
       "      <td>2023</td>\n",
       "      <td>4</td>\n",
       "      <td>1</td>\n",
       "      <td>01:12</td>\n",
       "      <td>14113329</td>\n",
       "    </tr>\n",
       "    <tr>\n",
       "      <th>1</th>\n",
       "      <td>015e8561-1087-442e-a71e-43c8b6fdcd75</td>\n",
       "      <td>2023</td>\n",
       "      <td>4</td>\n",
       "      <td>1</td>\n",
       "      <td>01:12</td>\n",
       "      <td>16577519</td>\n",
       "    </tr>\n",
       "    <tr>\n",
       "      <th>2</th>\n",
       "      <td>00a36156-5807-4c0c-abb7-d2e931505f2f</td>\n",
       "      <td>2023</td>\n",
       "      <td>4</td>\n",
       "      <td>1</td>\n",
       "      <td>01:05</td>\n",
       "      <td>12968662</td>\n",
       "    </tr>\n",
       "    <tr>\n",
       "      <th>3</th>\n",
       "      <td>0275a006-5bc5-4450-874b-c8cccf9c72a7</td>\n",
       "      <td>2023</td>\n",
       "      <td>4</td>\n",
       "      <td>1</td>\n",
       "      <td>01:27</td>\n",
       "      <td>11022998</td>\n",
       "    </tr>\n",
       "    <tr>\n",
       "      <th>4</th>\n",
       "      <td>0267da8d-1a84-4e46-ad72-c94fc2b89c8f</td>\n",
       "      <td>2023</td>\n",
       "      <td>4</td>\n",
       "      <td>1</td>\n",
       "      <td>01:19</td>\n",
       "      <td>33007044</td>\n",
       "    </tr>\n",
       "  </tbody>\n",
       "</table>\n",
       "</div>"
      ],
      "text/plain": [
       "                                     Id  Year  Month  Day VideoDuration   \n",
       "0  00114ad1-489d-47dd-a536-4b8d77283b1a  2023      4    1         01:12  \\\n",
       "1  015e8561-1087-442e-a71e-43c8b6fdcd75  2023      4    1         01:12   \n",
       "2  00a36156-5807-4c0c-abb7-d2e931505f2f  2023      4    1         01:05   \n",
       "3  0275a006-5bc5-4450-874b-c8cccf9c72a7  2023      4    1         01:27   \n",
       "4  0267da8d-1a84-4e46-ad72-c94fc2b89c8f  2023      4    1         01:19   \n",
       "\n",
       "   VideoWeight  \n",
       "0     14113329  \n",
       "1     16577519  \n",
       "2     12968662  \n",
       "3     11022998  \n",
       "4     33007044  "
      ]
     },
     "execution_count": 3,
     "metadata": {},
     "output_type": "execute_result"
    }
   ],
   "source": [
    "videos = pd.read_csv(\"./data/video-stats.csv\")\n",
    "videos.head()"
   ]
  },
  {
   "cell_type": "code",
   "execution_count": 4,
   "metadata": {},
   "outputs": [
    {
     "data": {
      "text/html": [
       "<div>\n",
       "<style scoped>\n",
       "    .dataframe tbody tr th:only-of-type {\n",
       "        vertical-align: middle;\n",
       "    }\n",
       "\n",
       "    .dataframe tbody tr th {\n",
       "        vertical-align: top;\n",
       "    }\n",
       "\n",
       "    .dataframe thead th {\n",
       "        text-align: right;\n",
       "    }\n",
       "</style>\n",
       "<table border=\"1\" class=\"dataframe\">\n",
       "  <thead>\n",
       "    <tr style=\"text-align: right;\">\n",
       "      <th></th>\n",
       "      <th>Id</th>\n",
       "      <th>Year</th>\n",
       "      <th>Month</th>\n",
       "      <th>Day</th>\n",
       "      <th>VideoDuration</th>\n",
       "      <th>VideoWeight</th>\n",
       "      <th>TimeSplitted</th>\n",
       "    </tr>\n",
       "  </thead>\n",
       "  <tbody>\n",
       "    <tr>\n",
       "      <th>0</th>\n",
       "      <td>00114ad1-489d-47dd-a536-4b8d77283b1a</td>\n",
       "      <td>2023</td>\n",
       "      <td>4</td>\n",
       "      <td>1</td>\n",
       "      <td>01:12</td>\n",
       "      <td>14113329</td>\n",
       "      <td>[01, 12]</td>\n",
       "    </tr>\n",
       "    <tr>\n",
       "      <th>1</th>\n",
       "      <td>015e8561-1087-442e-a71e-43c8b6fdcd75</td>\n",
       "      <td>2023</td>\n",
       "      <td>4</td>\n",
       "      <td>1</td>\n",
       "      <td>01:12</td>\n",
       "      <td>16577519</td>\n",
       "      <td>[01, 12]</td>\n",
       "    </tr>\n",
       "    <tr>\n",
       "      <th>2</th>\n",
       "      <td>00a36156-5807-4c0c-abb7-d2e931505f2f</td>\n",
       "      <td>2023</td>\n",
       "      <td>4</td>\n",
       "      <td>1</td>\n",
       "      <td>01:05</td>\n",
       "      <td>12968662</td>\n",
       "      <td>[01, 05]</td>\n",
       "    </tr>\n",
       "    <tr>\n",
       "      <th>3</th>\n",
       "      <td>0275a006-5bc5-4450-874b-c8cccf9c72a7</td>\n",
       "      <td>2023</td>\n",
       "      <td>4</td>\n",
       "      <td>1</td>\n",
       "      <td>01:27</td>\n",
       "      <td>11022998</td>\n",
       "      <td>[01, 27]</td>\n",
       "    </tr>\n",
       "    <tr>\n",
       "      <th>4</th>\n",
       "      <td>0267da8d-1a84-4e46-ad72-c94fc2b89c8f</td>\n",
       "      <td>2023</td>\n",
       "      <td>4</td>\n",
       "      <td>1</td>\n",
       "      <td>01:19</td>\n",
       "      <td>33007044</td>\n",
       "      <td>[01, 19]</td>\n",
       "    </tr>\n",
       "  </tbody>\n",
       "</table>\n",
       "</div>"
      ],
      "text/plain": [
       "                                     Id  Year  Month  Day VideoDuration   \n",
       "0  00114ad1-489d-47dd-a536-4b8d77283b1a  2023      4    1         01:12  \\\n",
       "1  015e8561-1087-442e-a71e-43c8b6fdcd75  2023      4    1         01:12   \n",
       "2  00a36156-5807-4c0c-abb7-d2e931505f2f  2023      4    1         01:05   \n",
       "3  0275a006-5bc5-4450-874b-c8cccf9c72a7  2023      4    1         01:27   \n",
       "4  0267da8d-1a84-4e46-ad72-c94fc2b89c8f  2023      4    1         01:19   \n",
       "\n",
       "   VideoWeight TimeSplitted  \n",
       "0     14113329     [01, 12]  \n",
       "1     16577519     [01, 12]  \n",
       "2     12968662     [01, 05]  \n",
       "3     11022998     [01, 27]  \n",
       "4     33007044     [01, 19]  "
      ]
     },
     "execution_count": 4,
     "metadata": {},
     "output_type": "execute_result"
    }
   ],
   "source": [
    "videos['TimeSplitted'] = videos['VideoDuration'].str.split(':')\n",
    "videos.head(5)"
   ]
  },
  {
   "cell_type": "code",
   "execution_count": 5,
   "metadata": {},
   "outputs": [],
   "source": [
    "def getMinutes(duration):\n",
    "        if len(duration) == 2:\n",
    "            return duration[0]\n",
    "        else:\n",
    "            return duration[0] * 60 + duration[1] if duration[0] == 00 else duration[1]"
   ]
  },
  {
   "cell_type": "code",
   "execution_count": 6,
   "metadata": {},
   "outputs": [
    {
     "data": {
      "text/html": [
       "<div>\n",
       "<style scoped>\n",
       "    .dataframe tbody tr th:only-of-type {\n",
       "        vertical-align: middle;\n",
       "    }\n",
       "\n",
       "    .dataframe tbody tr th {\n",
       "        vertical-align: top;\n",
       "    }\n",
       "\n",
       "    .dataframe thead th {\n",
       "        text-align: right;\n",
       "    }\n",
       "</style>\n",
       "<table border=\"1\" class=\"dataframe\">\n",
       "  <thead>\n",
       "    <tr style=\"text-align: right;\">\n",
       "      <th></th>\n",
       "      <th>Id</th>\n",
       "      <th>Year</th>\n",
       "      <th>Month</th>\n",
       "      <th>Day</th>\n",
       "      <th>VideoDuration</th>\n",
       "      <th>VideoWeight</th>\n",
       "      <th>TimeSplitted</th>\n",
       "      <th>OfficialDuration</th>\n",
       "    </tr>\n",
       "  </thead>\n",
       "  <tbody>\n",
       "    <tr>\n",
       "      <th>0</th>\n",
       "      <td>00114ad1-489d-47dd-a536-4b8d77283b1a</td>\n",
       "      <td>2023</td>\n",
       "      <td>4</td>\n",
       "      <td>1</td>\n",
       "      <td>01:12</td>\n",
       "      <td>14113329</td>\n",
       "      <td>[01, 12]</td>\n",
       "      <td>01</td>\n",
       "    </tr>\n",
       "    <tr>\n",
       "      <th>1</th>\n",
       "      <td>015e8561-1087-442e-a71e-43c8b6fdcd75</td>\n",
       "      <td>2023</td>\n",
       "      <td>4</td>\n",
       "      <td>1</td>\n",
       "      <td>01:12</td>\n",
       "      <td>16577519</td>\n",
       "      <td>[01, 12]</td>\n",
       "      <td>01</td>\n",
       "    </tr>\n",
       "    <tr>\n",
       "      <th>2</th>\n",
       "      <td>00a36156-5807-4c0c-abb7-d2e931505f2f</td>\n",
       "      <td>2023</td>\n",
       "      <td>4</td>\n",
       "      <td>1</td>\n",
       "      <td>01:05</td>\n",
       "      <td>12968662</td>\n",
       "      <td>[01, 05]</td>\n",
       "      <td>01</td>\n",
       "    </tr>\n",
       "    <tr>\n",
       "      <th>3</th>\n",
       "      <td>0275a006-5bc5-4450-874b-c8cccf9c72a7</td>\n",
       "      <td>2023</td>\n",
       "      <td>4</td>\n",
       "      <td>1</td>\n",
       "      <td>01:27</td>\n",
       "      <td>11022998</td>\n",
       "      <td>[01, 27]</td>\n",
       "      <td>01</td>\n",
       "    </tr>\n",
       "    <tr>\n",
       "      <th>4</th>\n",
       "      <td>0267da8d-1a84-4e46-ad72-c94fc2b89c8f</td>\n",
       "      <td>2023</td>\n",
       "      <td>4</td>\n",
       "      <td>1</td>\n",
       "      <td>01:19</td>\n",
       "      <td>33007044</td>\n",
       "      <td>[01, 19]</td>\n",
       "      <td>01</td>\n",
       "    </tr>\n",
       "    <tr>\n",
       "      <th>...</th>\n",
       "      <td>...</td>\n",
       "      <td>...</td>\n",
       "      <td>...</td>\n",
       "      <td>...</td>\n",
       "      <td>...</td>\n",
       "      <td>...</td>\n",
       "      <td>...</td>\n",
       "      <td>...</td>\n",
       "    </tr>\n",
       "    <tr>\n",
       "      <th>76699</th>\n",
       "      <td>fc8c1578-d6f8-4e8f-adac-400b73638298</td>\n",
       "      <td>2023</td>\n",
       "      <td>6</td>\n",
       "      <td>27</td>\n",
       "      <td>00:01:53</td>\n",
       "      <td>51393004</td>\n",
       "      <td>[00, 01, 53]</td>\n",
       "      <td>01</td>\n",
       "    </tr>\n",
       "    <tr>\n",
       "      <th>76700</th>\n",
       "      <td>fca9b20c-3de1-4ba2-a799-19dbfe1bc56d</td>\n",
       "      <td>2023</td>\n",
       "      <td>6</td>\n",
       "      <td>27</td>\n",
       "      <td>00:01:52</td>\n",
       "      <td>24982337</td>\n",
       "      <td>[00, 01, 52]</td>\n",
       "      <td>01</td>\n",
       "    </tr>\n",
       "    <tr>\n",
       "      <th>76701</th>\n",
       "      <td>fec52545-4b5c-4f5c-8193-11762d2cd124</td>\n",
       "      <td>2023</td>\n",
       "      <td>6</td>\n",
       "      <td>27</td>\n",
       "      <td>00:01:59</td>\n",
       "      <td>17328011</td>\n",
       "      <td>[00, 01, 59]</td>\n",
       "      <td>01</td>\n",
       "    </tr>\n",
       "    <tr>\n",
       "      <th>76702</th>\n",
       "      <td>febd9727-8120-44ae-ba14-ce365a461692</td>\n",
       "      <td>2023</td>\n",
       "      <td>6</td>\n",
       "      <td>27</td>\n",
       "      <td>00:03:10</td>\n",
       "      <td>86066302</td>\n",
       "      <td>[00, 03, 10]</td>\n",
       "      <td>03</td>\n",
       "    </tr>\n",
       "    <tr>\n",
       "      <th>76703</th>\n",
       "      <td>feef4f74-8074-4b90-bc2a-5841f52f4784</td>\n",
       "      <td>2023</td>\n",
       "      <td>6</td>\n",
       "      <td>27</td>\n",
       "      <td>00:03:27</td>\n",
       "      <td>41215588</td>\n",
       "      <td>[00, 03, 27]</td>\n",
       "      <td>03</td>\n",
       "    </tr>\n",
       "  </tbody>\n",
       "</table>\n",
       "<p>76704 rows × 8 columns</p>\n",
       "</div>"
      ],
      "text/plain": [
       "                                         Id  Year  Month  Day VideoDuration   \n",
       "0      00114ad1-489d-47dd-a536-4b8d77283b1a  2023      4    1         01:12  \\\n",
       "1      015e8561-1087-442e-a71e-43c8b6fdcd75  2023      4    1         01:12   \n",
       "2      00a36156-5807-4c0c-abb7-d2e931505f2f  2023      4    1         01:05   \n",
       "3      0275a006-5bc5-4450-874b-c8cccf9c72a7  2023      4    1         01:27   \n",
       "4      0267da8d-1a84-4e46-ad72-c94fc2b89c8f  2023      4    1         01:19   \n",
       "...                                     ...   ...    ...  ...           ...   \n",
       "76699  fc8c1578-d6f8-4e8f-adac-400b73638298  2023      6   27      00:01:53   \n",
       "76700  fca9b20c-3de1-4ba2-a799-19dbfe1bc56d  2023      6   27      00:01:52   \n",
       "76701  fec52545-4b5c-4f5c-8193-11762d2cd124  2023      6   27      00:01:59   \n",
       "76702  febd9727-8120-44ae-ba14-ce365a461692  2023      6   27      00:03:10   \n",
       "76703  feef4f74-8074-4b90-bc2a-5841f52f4784  2023      6   27      00:03:27   \n",
       "\n",
       "       VideoWeight  TimeSplitted OfficialDuration  \n",
       "0         14113329      [01, 12]               01  \n",
       "1         16577519      [01, 12]               01  \n",
       "2         12968662      [01, 05]               01  \n",
       "3         11022998      [01, 27]               01  \n",
       "4         33007044      [01, 19]               01  \n",
       "...            ...           ...              ...  \n",
       "76699     51393004  [00, 01, 53]               01  \n",
       "76700     24982337  [00, 01, 52]               01  \n",
       "76701     17328011  [00, 01, 59]               01  \n",
       "76702     86066302  [00, 03, 10]               03  \n",
       "76703     41215588  [00, 03, 27]               03  \n",
       "\n",
       "[76704 rows x 8 columns]"
      ]
     },
     "execution_count": 6,
     "metadata": {},
     "output_type": "execute_result"
    }
   ],
   "source": [
    "videos['OfficialDuration'] = videos['TimeSplitted'].apply(getMinutes)\n",
    "videos"
   ]
  },
  {
   "cell_type": "code",
   "execution_count": 7,
   "metadata": {},
   "outputs": [],
   "source": [
    "videos.to_csv(\"./data/video-stats-cleaned.csv\",index=False)"
   ]
  },
  {
   "cell_type": "markdown",
   "metadata": {},
   "source": [
    "## Bandwidth Analysis"
   ]
  },
  {
   "cell_type": "code",
   "execution_count": 13,
   "metadata": {},
   "outputs": [],
   "source": [
    "colombia_bandwidth = pd.read_excel(\"./data/dollacity-store-bandwidth-capacity.xlsx\", sheet_name=\"Colombia\")\n",
    "el_salvador_bandwidth = pd.read_excel(\"./data/dollacity-store-bandwidth-capacity.xlsx\", sheet_name=\"El Salvador\")\n",
    "guatemala_bandwidth = pd.read_excel(\"./data/dollacity-store-bandwidth-capacity.xlsx\", sheet_name=\"Guatemala\")\n",
    "peru_bandwidth = pd.read_excel(\"./data/dollacity-store-bandwidth-capacity.xlsx\", sheet_name=\"Peru\")\n"
   ]
  },
  {
   "cell_type": "code",
   "execution_count": 14,
   "metadata": {},
   "outputs": [],
   "source": [
    "colombia_bandwidth.fillna(0, inplace=True)\n",
    "el_salvador_bandwidth.fillna(0, inplace=True)\n",
    "guatemala_bandwidth.fillna(0, inplace=True)\n",
    "peru_bandwidth.fillna(0, inplace=True)\n"
   ]
  },
  {
   "cell_type": "code",
   "execution_count": 31,
   "metadata": {},
   "outputs": [],
   "source": [
    "def cleanBandWidthValues(bandwith: str):\n",
    "    bandwith = bandwith.strip()\n",
    "    bandwith_cleaned = 0\n",
    "    if  bandwith.startswith(\"M\") or bandwith.endswith(\"M\"):\n",
    "        bandwith_cleaned = bandwith.replace(\"M\", \"\")\n",
    "    elif bandwith.startswith(\"MB\") or bandwith.endswith(\"MB\"):\n",
    "        bandwith_cleaned = bandwith.replace(\"MB\", \"\")\n",
    "    elif bandwith.startswith(\"B\") or bandwith.endswith(\"B\"):\n",
    "        bandwith_cleaned = bandwith.replace(\"B\", \"\")\n",
    "    elif \"LTE\" in bandwith:\n",
    "        bandwith_cleaned = bandwith.replace(\"LTE\", \"0\")\n",
    "    else:\n",
    "        return int(bandwith)\n",
    "    return int(bandwith_cleaned)"
   ]
  },
  {
   "cell_type": "code",
   "execution_count": 17,
   "metadata": {},
   "outputs": [],
   "source": [
    "colombia_bandwidth[\"BW Claro\"] = colombia_bandwidth[\"BW Claro\"].astype(str).apply(cleanBandWidthValues)\n",
    "colombia_bandwidth[\"BW TigoUNE\"] = colombia_bandwidth[\"BW TigoUNE\"].astype(str).apply(cleanBandWidthValues)\n",
    "colombia_bandwidth[\"BW C&W\"] = colombia_bandwidth[\"BW C&W\"].astype(str).apply(cleanBandWidthValues)\n"
   ]
  },
  {
   "cell_type": "code",
   "execution_count": 21,
   "metadata": {},
   "outputs": [],
   "source": [
    "el_salvador_bandwidth[\"BW Tigo\"] = el_salvador_bandwidth[\"BW Tigo\"].astype(str).apply(cleanBandWidthValues)\n",
    "el_salvador_bandwidth[\"BW Claro\"] = el_salvador_bandwidth[\"BW Claro\"].astype(str).apply(cleanBandWidthValues)"
   ]
  },
  {
   "cell_type": "code",
   "execution_count": 34,
   "metadata": {},
   "outputs": [],
   "source": [
    "guatemala_bandwidth[\"BW Tigo\"] = guatemala_bandwidth[\"BW Tigo\"].astype(str).apply(cleanBandWidthValues) \n",
    "guatemala_bandwidth[\"BW Claro\"] = guatemala_bandwidth[\"BW Claro\"].astype(str).apply(cleanBandWidthValues) "
   ]
  },
  {
   "cell_type": "code",
   "execution_count": 38,
   "metadata": {},
   "outputs": [],
   "source": [
    "peru_bandwidth[\"BW Claro\"] = peru_bandwidth[\"BW Claro\"].astype(str).apply(cleanBandWidthValues)\n",
    "peru_bandwidth[\"BW Optical\"] = peru_bandwidth[\"BW Optical\"].astype(str).apply(cleanBandWidthValues)"
   ]
  },
  {
   "cell_type": "markdown",
   "metadata": {},
   "source": [
    "### Reverse Columns (Unpivot)"
   ]
  },
  {
   "cell_type": "code",
   "execution_count": 42,
   "metadata": {},
   "outputs": [],
   "source": [
    "df_colombia_bw = colombia_bandwidth.melt(\n",
    "    id_vars=[\n",
    "        \"Country\",\n",
    "        \"Store\",\n",
    "    ],\n",
    "    var_name=\"Provider\",\n",
    "    value_name=\"Bandwidth\",\n",
    ")"
   ]
  },
  {
   "cell_type": "code",
   "execution_count": 45,
   "metadata": {},
   "outputs": [],
   "source": [
    "df_el_salvador_bw = el_salvador_bandwidth.melt(\n",
    "    id_vars=[\n",
    "        \"Country\",\n",
    "        \"Store\",\n",
    "    ],\n",
    "    var_name=\"Provider\",\n",
    "    value_name=\"Bandwidth\",\n",
    ")"
   ]
  },
  {
   "cell_type": "code",
   "execution_count": 48,
   "metadata": {},
   "outputs": [],
   "source": [
    "df_guatemala_bw = guatemala_bandwidth.melt(\n",
    "    id_vars=[\n",
    "        \"Country\",\n",
    "        \"Store\",\n",
    "    ],\n",
    "    var_name=\"Provider\",\n",
    "    value_name=\"Bandwidth\",\n",
    ")"
   ]
  },
  {
   "cell_type": "code",
   "execution_count": 51,
   "metadata": {},
   "outputs": [],
   "source": [
    "df_peru_bw = peru_bandwidth.melt(\n",
    "    id_vars=[\n",
    "        \"Country\",\n",
    "        \"Store\",\n",
    "    ],\n",
    "    var_name=\"Provider\",\n",
    "    value_name=\"Bandwidth\",\n",
    ")"
   ]
  },
  {
   "cell_type": "code",
   "execution_count": 57,
   "metadata": {},
   "outputs": [],
   "source": [
    "all_stores_bandwidth = pd.concat(\n",
    "    [df_colombia_bw, df_el_salvador_bw, df_guatemala_bw, df_peru_bw], axis=0\n",
    ")\n"
   ]
  },
  {
   "cell_type": "code",
   "execution_count": 59,
   "metadata": {},
   "outputs": [],
   "source": [
    "all_stores_bandwidth.to_csv(\"./data/dollarcity_all_stores_bandwidth.csv\", index=False)"
   ]
  },
  {
   "attachments": {},
   "cell_type": "markdown",
   "metadata": {},
   "source": [
    "## Visualization"
   ]
  },
  {
   "cell_type": "code",
   "execution_count": 8,
   "metadata": {},
   "outputs": [],
   "source": [
    "video_stats = pd.read_csv(\"./data/video-stats-cleaned.csv\")"
   ]
  },
  {
   "cell_type": "code",
   "execution_count": 9,
   "metadata": {},
   "outputs": [
    {
     "data": {
      "text/html": [
       "<div>\n",
       "<style scoped>\n",
       "    .dataframe tbody tr th:only-of-type {\n",
       "        vertical-align: middle;\n",
       "    }\n",
       "\n",
       "    .dataframe tbody tr th {\n",
       "        vertical-align: top;\n",
       "    }\n",
       "\n",
       "    .dataframe thead th {\n",
       "        text-align: right;\n",
       "    }\n",
       "</style>\n",
       "<table border=\"1\" class=\"dataframe\">\n",
       "  <thead>\n",
       "    <tr style=\"text-align: right;\">\n",
       "      <th></th>\n",
       "      <th>Id</th>\n",
       "      <th>Year</th>\n",
       "      <th>Month</th>\n",
       "      <th>Day</th>\n",
       "      <th>VideoDuration</th>\n",
       "      <th>VideoWeight</th>\n",
       "      <th>TimeSplitted</th>\n",
       "      <th>OfficialDuration</th>\n",
       "    </tr>\n",
       "  </thead>\n",
       "  <tbody>\n",
       "    <tr>\n",
       "      <th>0</th>\n",
       "      <td>00114ad1-489d-47dd-a536-4b8d77283b1a</td>\n",
       "      <td>2023</td>\n",
       "      <td>4</td>\n",
       "      <td>1</td>\n",
       "      <td>01:12</td>\n",
       "      <td>14113329</td>\n",
       "      <td>['01', '12']</td>\n",
       "      <td>1</td>\n",
       "    </tr>\n",
       "    <tr>\n",
       "      <th>1</th>\n",
       "      <td>015e8561-1087-442e-a71e-43c8b6fdcd75</td>\n",
       "      <td>2023</td>\n",
       "      <td>4</td>\n",
       "      <td>1</td>\n",
       "      <td>01:12</td>\n",
       "      <td>16577519</td>\n",
       "      <td>['01', '12']</td>\n",
       "      <td>1</td>\n",
       "    </tr>\n",
       "    <tr>\n",
       "      <th>2</th>\n",
       "      <td>00a36156-5807-4c0c-abb7-d2e931505f2f</td>\n",
       "      <td>2023</td>\n",
       "      <td>4</td>\n",
       "      <td>1</td>\n",
       "      <td>01:05</td>\n",
       "      <td>12968662</td>\n",
       "      <td>['01', '05']</td>\n",
       "      <td>1</td>\n",
       "    </tr>\n",
       "    <tr>\n",
       "      <th>3</th>\n",
       "      <td>0275a006-5bc5-4450-874b-c8cccf9c72a7</td>\n",
       "      <td>2023</td>\n",
       "      <td>4</td>\n",
       "      <td>1</td>\n",
       "      <td>01:27</td>\n",
       "      <td>11022998</td>\n",
       "      <td>['01', '27']</td>\n",
       "      <td>1</td>\n",
       "    </tr>\n",
       "    <tr>\n",
       "      <th>4</th>\n",
       "      <td>0267da8d-1a84-4e46-ad72-c94fc2b89c8f</td>\n",
       "      <td>2023</td>\n",
       "      <td>4</td>\n",
       "      <td>1</td>\n",
       "      <td>01:19</td>\n",
       "      <td>33007044</td>\n",
       "      <td>['01', '19']</td>\n",
       "      <td>1</td>\n",
       "    </tr>\n",
       "  </tbody>\n",
       "</table>\n",
       "</div>"
      ],
      "text/plain": [
       "                                     Id  Year  Month  Day VideoDuration   \n",
       "0  00114ad1-489d-47dd-a536-4b8d77283b1a  2023      4    1         01:12  \\\n",
       "1  015e8561-1087-442e-a71e-43c8b6fdcd75  2023      4    1         01:12   \n",
       "2  00a36156-5807-4c0c-abb7-d2e931505f2f  2023      4    1         01:05   \n",
       "3  0275a006-5bc5-4450-874b-c8cccf9c72a7  2023      4    1         01:27   \n",
       "4  0267da8d-1a84-4e46-ad72-c94fc2b89c8f  2023      4    1         01:19   \n",
       "\n",
       "   VideoWeight  TimeSplitted  OfficialDuration  \n",
       "0     14113329  ['01', '12']                 1  \n",
       "1     16577519  ['01', '12']                 1  \n",
       "2     12968662  ['01', '05']                 1  \n",
       "3     11022998  ['01', '27']                 1  \n",
       "4     33007044  ['01', '19']                 1  "
      ]
     },
     "execution_count": 9,
     "metadata": {},
     "output_type": "execute_result"
    }
   ],
   "source": [
    "video_stats.head()"
   ]
  },
  {
   "cell_type": "code",
   "execution_count": 11,
   "metadata": {},
   "outputs": [
    {
     "data": {
      "text/plain": [
       "<Axes: xlabel='Month', ylabel='VideoWeight'>"
      ]
     },
     "execution_count": 11,
     "metadata": {},
     "output_type": "execute_result"
    },
    {
     "data": {
      "image/png": "[encoded data removed]",
      "text/plain": [
       "<Figure size 640x480 with 1 Axes>"
      ]
     },
     "metadata": {},
     "output_type": "display_data"
    }
   ],
   "source": [
    "import seaborn as sns\n",
    "sns.barplot(data=video_stats, x=\"Month\", y=\"VideoWeight\")"
   ]
  },
  {
   "cell_type": "code",
   "execution_count": null,
   "metadata": {},
   "outputs": [],
   "source": []
  }
 ],
 "metadata": {
  "kernelspec": {
   "display_name": ".thesis-python",
   "language": "python",
   "name": "python3"
  },
  "language_info": {
   "codemirror_mode": {
    "name": "ipython",
    "version": 3
   },
   "file_extension": ".py",
   "mimetype": "text/x-python",
   "name": "python",
   "nbconvert_exporter": "python",
   "pygments_lexer": "ipython3",
   "version": "3.10.4"
  },
  "orig_nbformat": 4
 },
 "nbformat": 4,
 "nbformat_minor": 2
}
